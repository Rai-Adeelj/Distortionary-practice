{
 "cells": [
  {
   "cell_type": "code",
   "execution_count": 1,
   "id": "9a4ecbad-c46f-4cba-b5d0-411a89c1229b",
   "metadata": {},
   "outputs": [],
   "source": [
    "#Rai Adeel Jahanzeb Khan"
   ]
  },
  {
   "cell_type": "code",
   "execution_count": 2,
   "id": "801946d1-f857-4990-81e4-069b4a9f5941",
   "metadata": {},
   "outputs": [],
   "source": [
    "#FA24-BBD-071"
   ]
  },
  {
   "cell_type": "code",
   "execution_count": 3,
   "id": "460d2eed-1476-45cc-93b6-3f1b51ab77b4",
   "metadata": {},
   "outputs": [],
   "source": [
    "#Question no.1"
   ]
  },
  {
   "cell_type": "code",
   "execution_count": 4,
   "id": "96ceefce-e0a4-4e02-a41a-e6c21dcf42e6",
   "metadata": {},
   "outputs": [
    {
     "name": "stdout",
     "output_type": "stream",
     "text": [
      "Name : Rai\n",
      "Age : 19\n",
      "City : Haroonabad\n",
      "Hobby : playing_sports\n"
     ]
    }
   ],
   "source": [
    "info = {\"Name :\": \"Rai\", \"Age :\" : \"19\", \"City :\" : \"Haroonabad\", \"Hobby :\" : \"playing_sports\"}\n",
    "for key,value in info.items():\n",
    "    print(key ,value)"
   ]
  },
  {
   "cell_type": "code",
   "execution_count": 5,
   "id": "e5b5d31f-ea5d-49e0-971b-2f4b4c4ad575",
   "metadata": {},
   "outputs": [],
   "source": [
    "#Question no.2"
   ]
  },
  {
   "cell_type": "code",
   "execution_count": 6,
   "id": "677bd171-0fb1-42e7-b754-0ca003cb0579",
   "metadata": {},
   "outputs": [
    {
     "name": "stdin",
     "output_type": "stream",
     "text": [
      "Enter the text:  q\n"
     ]
    },
    {
     "name": "stdout",
     "output_type": "stream",
     "text": [
      "\n",
      "Word Frequencies:\n",
      "q: 1\n"
     ]
    }
   ],
   "source": [
    "text = input(\"Enter the text: \").lower()\n",
    "words = text.split() \n",
    "frequencies = {} \n",
    "for word in words:\n",
    "    frequencies[word] = frequencies.get(word, 0) + 1\n",
    "print(\"\\nWord Frequencies:\")\n",
    "for word, count in frequencies.items():\n",
    "    print(f\"{word}: {count}\")"
   ]
  },
  {
   "cell_type": "code",
   "execution_count": 7,
   "id": "69f59a15-fca1-4139-a560-9c09b271d4e9",
   "metadata": {},
   "outputs": [],
   "source": [
    "#Question no.3"
   ]
  },
  {
   "cell_type": "code",
   "execution_count": 10,
   "id": "d6b7c1f3-4ad5-4b87-a596-a8b8fc770df0",
   "metadata": {},
   "outputs": [
    {
     "name": "stdout",
     "output_type": "stream",
     "text": [
      "Store: S\n",
      "Quit : Q\n"
     ]
    },
    {
     "name": "stdin",
     "output_type": "stream",
     "text": [
      "ENTER YOUR PRODUCT NAME: q\n",
      "ENTER NUMBER OF UNITS: 4\n",
      "ENTER S OR Q: s\n",
      "ENTER YOUR PRODUCT NAME: q\n",
      "ENTER NUMBER OF UNITS: 3\n",
      "ENTER S OR Q: Q\n"
     ]
    },
    {
     "name": "stdout",
     "output_type": "stream",
     "text": [
      "{'q': 3}\n"
     ]
    }
   ],
   "source": [
    "inventory = {}\n",
    "print (\"Store: S\\nQuit : Q\")\n",
    "while True :\n",
    "    product = input(\"ENTER YOUR PRODUCT NAME:\")\n",
    "    units   = int(input(\"ENTER NUMBER OF UNITS:\"))\n",
    "    option = input(\"ENTER S OR Q:\").lower()\n",
    "    inventory[product] = units\n",
    "    if option == \"q\" :\n",
    "        break\n",
    "print(inventory)"
   ]
  },
  {
   "cell_type": "code",
   "execution_count": null,
   "id": "f90738c6-fd51-43bb-a38f-d974c2507446",
   "metadata": {},
   "outputs": [],
   "source": [
    "#Question no.3"
   ]
  },
  {
   "cell_type": "code",
   "execution_count": 13,
   "id": "79d3e38f-893f-43c1-8706-7249ea261f47",
   "metadata": {},
   "outputs": [
    {
     "name": "stdout",
     "output_type": "stream",
     "text": [
      "Category Totals: {'Electronics': 4, 'Clothing': 4, 'Books': 5}\n",
      "Most Popular Product Category: Books (5 items sold)\n"
     ]
    }
   ],
   "source": [
    "orders = [\n",
    "     {\"ProductCategory\": \"Electronics\", \"Quantity\": 1},\n",
    "    {\"ProductCategory\": \"Clothing\", \"Quantity\": 2},\n",
    "    {\"ProductCategory\": \"Electronics\", \"Quantity\": 3},\n",
    "    {\"ProductCategory\": \"Books\", \"Quantity\": 1},\n",
    "    {\"ProductCategory\": \"Clothing\", \"Quantity\": 2},\n",
    "    {\"ProductCategory\": \"Books\", \"Quantity\": 4}\n",
    "]\n",
    "category_totals = {}\n",
    "for order in orders:\n",
    "    category = order[\"ProductCategory\"]\n",
    "    quantity = order[\"Quantity\"]\n",
    "    category_totals[category] = category_totals.get(category, 0) + quantity\n",
    "most_popular = max(category_totals, key=category_totals.get)\n",
    "print(\"Category Totals:\", category_totals)\n",
    "print(f\"Most Popular Product Category: {most_popular} ({category_totals[most_popular]} items sold)\")"
   ]
  },
  {
   "cell_type": "code",
   "execution_count": 14,
   "id": "9281857e-2d58-4a9d-b925-0b9e79d3f281",
   "metadata": {},
   "outputs": [],
   "source": [
    "#Question no.4"
   ]
  },
  {
   "cell_type": "code",
   "execution_count": 18,
   "id": "d9614fe7-13de-4d84-9aa8-d65c05fa4cec",
   "metadata": {},
   "outputs": [
    {
     "name": "stdin",
     "output_type": "stream",
     "text": [
      "Enter the number of students:  1\n",
      "Enter the student's name:  ali\n",
      "Enter the grade for ali:  22\n"
     ]
    },
    {
     "name": "stdout",
     "output_type": "stream",
     "text": [
      "\n",
      "Student Grades:\n",
      "ali: 22.00\n",
      "\n",
      "Average Grade: 22.00\n"
     ]
    }
   ],
   "source": [
    "grades = {}\n",
    "n = int(input(\"Enter the number of students: \"))\n",
    "for _ in range(n):\n",
    "    name = input(\"Enter the student's name: \")\n",
    "    grade = float(input(f\"Enter the grade for {name}: \"))\n",
    "    grades[name] = grade\n",
    "average_grade = sum(grades.values()) / len(grades)\n",
    "print(\"\\nStudent Grades:\")\n",
    "for student, grade in grades.items():\n",
    "    print(f\"{student}: {grade:.2f}\")\n",
    "print(f\"\\nAverage Grade: {average_grade:.2f}\")"
   ]
  },
  {
   "cell_type": "code",
   "execution_count": 19,
   "id": "755f9e8f-3e8e-42b3-820e-7de0d5b05c1a",
   "metadata": {},
   "outputs": [],
   "source": [
    "#Question no.5"
   ]
  },
  {
   "cell_type": "code",
   "execution_count": 21,
   "id": "f5ea3099-5e35-4aa2-9831-2260e9f2ce7d",
   "metadata": {},
   "outputs": [
    {
     "name": "stdout",
     "output_type": "stream",
     "text": [
      "\n",
      "1. Add Student\n",
      "2. Calculate Averages\n",
      "3. Subject Grades\n",
      "4. Sort Students\n",
      "5. Exit\n"
     ]
    },
    {
     "name": "stdin",
     "output_type": "stream",
     "text": [
      "Choose an option:  5\n"
     ]
    },
    {
     "name": "stdout",
     "output_type": "stream",
     "text": [
      "Goodbye!\n"
     ]
    }
   ],
   "source": [
    "def add_student():\n",
    "    name = input(\"Enter student name: \")\n",
    "    subjects = int(input(f\"How many subjects for {name}? \"))\n",
    "    grades = {}\n",
    "    for _ in range(subjects):\n",
    "        subject = input(\"Enter subject name: \")\n",
    "        grade = float(input(f\"Enter grade for {subject}: \"))\n",
    "        grades[subject] = grade\n",
    "    students[name] = grades\n",
    "    print(f\"Added {name} successfully!\")\n",
    "def calculate_averages():\n",
    "    print(\"\\nAverage Grades:\")\n",
    "    for name, grades in students.items():\n",
    "        avg = sum(grades.values()) / len(grades)\n",
    "        print(f\"{name}: {avg:.2f}\")\n",
    "def subject_grades():\n",
    "    subject = input(\"Enter subject name: \")\n",
    "    highest, lowest = None, None\n",
    "    high_name, low_name = \"\", \"\"\n",
    "\n",
    "    for name, grades in students.items():\n",
    "        if subject in grades:\n",
    "            grade = grades[subject]\n",
    "            if highest is None or grade > highest:\n",
    "                highest, high_name = grade, name\n",
    "            if lowest is None or grade < lowest:\n",
    "                lowest, low_name = grade, name\n",
    "\n",
    "    if highest is not None:\n",
    "        print(f\"\\n{subject} - Highest: {highest} ({high_name}), Lowest: {lowest} ({low_name})\")\n",
    "    else:\n",
    "        print(f\"No grades found for {subject}.\")\n",
    "def sort_students():\n",
    "    averages = {name: sum(grades.values()) / len(grades) for name, grades in students.items()}\n",
    "    sorted_students = sorted(averages.items(), key=lambda x: x[1], reverse=True)\n",
    "    print(\"\\nStudents sorted by average grade:\")\n",
    "    for name, avg in sorted_students:\n",
    "        print(f\"{name}: {avg:.2f}\")\n",
    "while True:\n",
    "    print(\"\\n1. Add Student\\n2. Calculate Averages\\n3. Subject Grades\\n4. Sort Students\\n5. Exit\")\n",
    "    choice = input(\"Choose an option: \")\n",
    "    if choice == \"1\":\n",
    "        add_student()\n",
    "    elif choice == \"2\":\n",
    "        calculate_averages()\n",
    "    elif choice == \"3\":\n",
    "        subject_grades()\n",
    "    elif choice == \"4\":\n",
    "        sort_students()\n",
    "    elif choice == \"5\":\n",
    "        print(\"Goodbye!\")\n",
    "        break\n",
    "    else:\n",
    "        print(\"Invalid choice, try again.\")"
   ]
  },
  {
   "cell_type": "code",
   "execution_count": 22,
   "id": "de0ee37b-64ab-4e1f-b120-c7248b6c1e34",
   "metadata": {},
   "outputs": [
    {
     "name": "stdout",
     "output_type": "stream",
     "text": [
      "\n",
      "1. Add to Cart\n",
      "2. Remove from Cart\n",
      "3. View Total\n",
      "4. Exit\n"
     ]
    },
    {
     "name": "stdin",
     "output_type": "stream",
     "text": [
      "Choose an option:  4\n"
     ]
    },
    {
     "name": "stdout",
     "output_type": "stream",
     "text": [
      "Thank you for shopping!\n"
     ]
    }
   ],
   "source": [
    "products = {\"Apple\": {\"price\": 2, \"quantity\": 10}, \n",
    "            \"Banana\": {\"price\": 1, \"quantity\": 20}, \n",
    "            \"Milk\": {\"price\": 3, \"quantity\": 5}}\n",
    "cart = {}\n",
    "\n",
    "def add_to_cart():\n",
    "    \"\"\"Add a product to the cart.\"\"\"\n",
    "    name = input(\"Enter product name: \").strip()\n",
    "    if name in products:\n",
    "        quantity = int(input(f\"Enter quantity of {name}: \"))\n",
    "        if quantity <= products[name][\"quantity\"]:\n",
    "            cart[name] = cart.get(name, 0) + quantity\n",
    "            products[name][\"quantity\"] -= quantity\n",
    "            print(f\"{quantity} {name}(s) added to the cart.\")\n",
    "        else:\n",
    "            print(\"Not enough stock available.\")\n",
    "    else:\n",
    "        print(\"Product not found.\")\n",
    "\n",
    "def remove_from_cart():\n",
    "    \"\"\"Remove a product from the cart.\"\"\"\n",
    "    name = input(\"Enter product name to remove: \").strip()\n",
    "    if name in cart:\n",
    "        quantity = int(input(f\"Enter quantity of {name} to remove: \"))\n",
    "        if quantity <= cart[name]:\n",
    "            cart[name] -= quantity\n",
    "            products[name][\"quantity\"] += quantity\n",
    "            if cart[name] == 0:\n",
    "                del cart[name]\n",
    "            print(f\"{quantity} {name}(s) removed from the cart.\")\n",
    "        else:\n",
    "            print(\"You don't have that many in your cart.\")\n",
    "    else:\n",
    "        print(\"Product not in the cart.\")\n",
    "\n",
    "def calculate_total():\n",
    "    \"\"\"Calculate the total cost, including discounts and taxes.\"\"\"\n",
    "    total = 0\n",
    "    for name, quantity in cart.items():\n",
    "        total += quantity * products[name][\"price\"]\n",
    "    discount = total * 0.1  # 10% discount\n",
    "    tax = total * 0.05     # 5% tax\n",
    "    total_after_discount = total - discount\n",
    "    total_with_tax = total_after_discount + tax\n",
    "    print(f\"\\nSubtotal: ${total:.2f}\")\n",
    "    print(f\"Discount (10%): -${discount:.2f}\")\n",
    "    print(f\"Tax (5%): +${tax:.2f}\")\n",
    "    print(f\"Total: ${total_with_tax:.2f}\")\n",
    "def main():\n",
    "    \"\"\"Main menu for the shopping cart.\"\"\"\n",
    "    while True:\n",
    "        print(\"\\n1. Add to Cart\\n2. Remove from Cart\\n3. View Total\\n4. Exit\")\n",
    "        choice = input(\"Choose an option: \").strip()\n",
    "        if choice == \"1\":\n",
    "            add_to_cart()\n",
    "        elif choice == \"2\":\n",
    "            remove_from_cart()\n",
    "        elif choice == \"3\":\n",
    "            calculate_total()\n",
    "        elif choice == \"4\":\n",
    "            print(\"Thank you for shopping!\")\n",
    "            break\n",
    "        else:\n",
    "            print(\"Invalid choice. Try again.\")\n",
    "\n",
    "if __name__ == \"__main__\":\n",
    "    main()\n",
    "    "
   ]
  }
 ],
 "metadata": {
  "kernelspec": {
   "display_name": "Python 3 (ipykernel)",
   "language": "python",
   "name": "python3"
  },
  "language_info": {
   "codemirror_mode": {
    "name": "ipython",
    "version": 3
   },
   "file_extension": ".py",
   "mimetype": "text/x-python",
   "name": "python",
   "nbconvert_exporter": "python",
   "pygments_lexer": "ipython3",
   "version": "3.12.4"
  }
 },
 "nbformat": 4,
 "nbformat_minor": 5
}
